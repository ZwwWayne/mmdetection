{
 "cells": [
  {
   "cell_type": "code",
   "execution_count": 1,
   "metadata": {},
   "outputs": [],
   "source": [
    "import torch\n",
    "import collections\n",
    "import copy"
   ]
  },
  {
   "cell_type": "code",
   "execution_count": 2,
   "metadata": {},
   "outputs": [],
   "source": [
    "detectron_model = torch.load('../detectron2/exps/rpn_r50_fpn_1x/model_final.pth', map_location='cpu')"
   ]
  },
  {
   "cell_type": "code",
   "execution_count": 3,
   "metadata": {},
   "outputs": [
    {
     "data": {
      "text/plain": [
       "odict_keys(['backbone.fpn_lateral2.weight', 'backbone.fpn_lateral2.bias', 'backbone.fpn_output2.weight', 'backbone.fpn_output2.bias', 'backbone.fpn_lateral3.weight', 'backbone.fpn_lateral3.bias', 'backbone.fpn_output3.weight', 'backbone.fpn_output3.bias', 'backbone.fpn_lateral4.weight', 'backbone.fpn_lateral4.bias', 'backbone.fpn_output4.weight', 'backbone.fpn_output4.bias', 'backbone.fpn_lateral5.weight', 'backbone.fpn_lateral5.bias', 'backbone.fpn_output5.weight', 'backbone.fpn_output5.bias', 'backbone.bottom_up.stem.conv1.weight', 'backbone.bottom_up.stem.conv1.norm.weight', 'backbone.bottom_up.stem.conv1.norm.bias', 'backbone.bottom_up.stem.conv1.norm.running_mean', 'backbone.bottom_up.stem.conv1.norm.running_var', 'backbone.bottom_up.res2.0.shortcut.weight', 'backbone.bottom_up.res2.0.shortcut.norm.weight', 'backbone.bottom_up.res2.0.shortcut.norm.bias', 'backbone.bottom_up.res2.0.shortcut.norm.running_mean', 'backbone.bottom_up.res2.0.shortcut.norm.running_var', 'backbone.bottom_up.res2.0.conv1.weight', 'backbone.bottom_up.res2.0.conv1.norm.weight', 'backbone.bottom_up.res2.0.conv1.norm.bias', 'backbone.bottom_up.res2.0.conv1.norm.running_mean', 'backbone.bottom_up.res2.0.conv1.norm.running_var', 'backbone.bottom_up.res2.0.conv2.weight', 'backbone.bottom_up.res2.0.conv2.norm.weight', 'backbone.bottom_up.res2.0.conv2.norm.bias', 'backbone.bottom_up.res2.0.conv2.norm.running_mean', 'backbone.bottom_up.res2.0.conv2.norm.running_var', 'backbone.bottom_up.res2.0.conv3.weight', 'backbone.bottom_up.res2.0.conv3.norm.weight', 'backbone.bottom_up.res2.0.conv3.norm.bias', 'backbone.bottom_up.res2.0.conv3.norm.running_mean', 'backbone.bottom_up.res2.0.conv3.norm.running_var', 'backbone.bottom_up.res2.1.conv1.weight', 'backbone.bottom_up.res2.1.conv1.norm.weight', 'backbone.bottom_up.res2.1.conv1.norm.bias', 'backbone.bottom_up.res2.1.conv1.norm.running_mean', 'backbone.bottom_up.res2.1.conv1.norm.running_var', 'backbone.bottom_up.res2.1.conv2.weight', 'backbone.bottom_up.res2.1.conv2.norm.weight', 'backbone.bottom_up.res2.1.conv2.norm.bias', 'backbone.bottom_up.res2.1.conv2.norm.running_mean', 'backbone.bottom_up.res2.1.conv2.norm.running_var', 'backbone.bottom_up.res2.1.conv3.weight', 'backbone.bottom_up.res2.1.conv3.norm.weight', 'backbone.bottom_up.res2.1.conv3.norm.bias', 'backbone.bottom_up.res2.1.conv3.norm.running_mean', 'backbone.bottom_up.res2.1.conv3.norm.running_var', 'backbone.bottom_up.res2.2.conv1.weight', 'backbone.bottom_up.res2.2.conv1.norm.weight', 'backbone.bottom_up.res2.2.conv1.norm.bias', 'backbone.bottom_up.res2.2.conv1.norm.running_mean', 'backbone.bottom_up.res2.2.conv1.norm.running_var', 'backbone.bottom_up.res2.2.conv2.weight', 'backbone.bottom_up.res2.2.conv2.norm.weight', 'backbone.bottom_up.res2.2.conv2.norm.bias', 'backbone.bottom_up.res2.2.conv2.norm.running_mean', 'backbone.bottom_up.res2.2.conv2.norm.running_var', 'backbone.bottom_up.res2.2.conv3.weight', 'backbone.bottom_up.res2.2.conv3.norm.weight', 'backbone.bottom_up.res2.2.conv3.norm.bias', 'backbone.bottom_up.res2.2.conv3.norm.running_mean', 'backbone.bottom_up.res2.2.conv3.norm.running_var', 'backbone.bottom_up.res3.0.shortcut.weight', 'backbone.bottom_up.res3.0.shortcut.norm.weight', 'backbone.bottom_up.res3.0.shortcut.norm.bias', 'backbone.bottom_up.res3.0.shortcut.norm.running_mean', 'backbone.bottom_up.res3.0.shortcut.norm.running_var', 'backbone.bottom_up.res3.0.conv1.weight', 'backbone.bottom_up.res3.0.conv1.norm.weight', 'backbone.bottom_up.res3.0.conv1.norm.bias', 'backbone.bottom_up.res3.0.conv1.norm.running_mean', 'backbone.bottom_up.res3.0.conv1.norm.running_var', 'backbone.bottom_up.res3.0.conv2.weight', 'backbone.bottom_up.res3.0.conv2.norm.weight', 'backbone.bottom_up.res3.0.conv2.norm.bias', 'backbone.bottom_up.res3.0.conv2.norm.running_mean', 'backbone.bottom_up.res3.0.conv2.norm.running_var', 'backbone.bottom_up.res3.0.conv3.weight', 'backbone.bottom_up.res3.0.conv3.norm.weight', 'backbone.bottom_up.res3.0.conv3.norm.bias', 'backbone.bottom_up.res3.0.conv3.norm.running_mean', 'backbone.bottom_up.res3.0.conv3.norm.running_var', 'backbone.bottom_up.res3.1.conv1.weight', 'backbone.bottom_up.res3.1.conv1.norm.weight', 'backbone.bottom_up.res3.1.conv1.norm.bias', 'backbone.bottom_up.res3.1.conv1.norm.running_mean', 'backbone.bottom_up.res3.1.conv1.norm.running_var', 'backbone.bottom_up.res3.1.conv2.weight', 'backbone.bottom_up.res3.1.conv2.norm.weight', 'backbone.bottom_up.res3.1.conv2.norm.bias', 'backbone.bottom_up.res3.1.conv2.norm.running_mean', 'backbone.bottom_up.res3.1.conv2.norm.running_var', 'backbone.bottom_up.res3.1.conv3.weight', 'backbone.bottom_up.res3.1.conv3.norm.weight', 'backbone.bottom_up.res3.1.conv3.norm.bias', 'backbone.bottom_up.res3.1.conv3.norm.running_mean', 'backbone.bottom_up.res3.1.conv3.norm.running_var', 'backbone.bottom_up.res3.2.conv1.weight', 'backbone.bottom_up.res3.2.conv1.norm.weight', 'backbone.bottom_up.res3.2.conv1.norm.bias', 'backbone.bottom_up.res3.2.conv1.norm.running_mean', 'backbone.bottom_up.res3.2.conv1.norm.running_var', 'backbone.bottom_up.res3.2.conv2.weight', 'backbone.bottom_up.res3.2.conv2.norm.weight', 'backbone.bottom_up.res3.2.conv2.norm.bias', 'backbone.bottom_up.res3.2.conv2.norm.running_mean', 'backbone.bottom_up.res3.2.conv2.norm.running_var', 'backbone.bottom_up.res3.2.conv3.weight', 'backbone.bottom_up.res3.2.conv3.norm.weight', 'backbone.bottom_up.res3.2.conv3.norm.bias', 'backbone.bottom_up.res3.2.conv3.norm.running_mean', 'backbone.bottom_up.res3.2.conv3.norm.running_var', 'backbone.bottom_up.res3.3.conv1.weight', 'backbone.bottom_up.res3.3.conv1.norm.weight', 'backbone.bottom_up.res3.3.conv1.norm.bias', 'backbone.bottom_up.res3.3.conv1.norm.running_mean', 'backbone.bottom_up.res3.3.conv1.norm.running_var', 'backbone.bottom_up.res3.3.conv2.weight', 'backbone.bottom_up.res3.3.conv2.norm.weight', 'backbone.bottom_up.res3.3.conv2.norm.bias', 'backbone.bottom_up.res3.3.conv2.norm.running_mean', 'backbone.bottom_up.res3.3.conv2.norm.running_var', 'backbone.bottom_up.res3.3.conv3.weight', 'backbone.bottom_up.res3.3.conv3.norm.weight', 'backbone.bottom_up.res3.3.conv3.norm.bias', 'backbone.bottom_up.res3.3.conv3.norm.running_mean', 'backbone.bottom_up.res3.3.conv3.norm.running_var', 'backbone.bottom_up.res4.0.shortcut.weight', 'backbone.bottom_up.res4.0.shortcut.norm.weight', 'backbone.bottom_up.res4.0.shortcut.norm.bias', 'backbone.bottom_up.res4.0.shortcut.norm.running_mean', 'backbone.bottom_up.res4.0.shortcut.norm.running_var', 'backbone.bottom_up.res4.0.conv1.weight', 'backbone.bottom_up.res4.0.conv1.norm.weight', 'backbone.bottom_up.res4.0.conv1.norm.bias', 'backbone.bottom_up.res4.0.conv1.norm.running_mean', 'backbone.bottom_up.res4.0.conv1.norm.running_var', 'backbone.bottom_up.res4.0.conv2.weight', 'backbone.bottom_up.res4.0.conv2.norm.weight', 'backbone.bottom_up.res4.0.conv2.norm.bias', 'backbone.bottom_up.res4.0.conv2.norm.running_mean', 'backbone.bottom_up.res4.0.conv2.norm.running_var', 'backbone.bottom_up.res4.0.conv3.weight', 'backbone.bottom_up.res4.0.conv3.norm.weight', 'backbone.bottom_up.res4.0.conv3.norm.bias', 'backbone.bottom_up.res4.0.conv3.norm.running_mean', 'backbone.bottom_up.res4.0.conv3.norm.running_var', 'backbone.bottom_up.res4.1.conv1.weight', 'backbone.bottom_up.res4.1.conv1.norm.weight', 'backbone.bottom_up.res4.1.conv1.norm.bias', 'backbone.bottom_up.res4.1.conv1.norm.running_mean', 'backbone.bottom_up.res4.1.conv1.norm.running_var', 'backbone.bottom_up.res4.1.conv2.weight', 'backbone.bottom_up.res4.1.conv2.norm.weight', 'backbone.bottom_up.res4.1.conv2.norm.bias', 'backbone.bottom_up.res4.1.conv2.norm.running_mean', 'backbone.bottom_up.res4.1.conv2.norm.running_var', 'backbone.bottom_up.res4.1.conv3.weight', 'backbone.bottom_up.res4.1.conv3.norm.weight', 'backbone.bottom_up.res4.1.conv3.norm.bias', 'backbone.bottom_up.res4.1.conv3.norm.running_mean', 'backbone.bottom_up.res4.1.conv3.norm.running_var', 'backbone.bottom_up.res4.2.conv1.weight', 'backbone.bottom_up.res4.2.conv1.norm.weight', 'backbone.bottom_up.res4.2.conv1.norm.bias', 'backbone.bottom_up.res4.2.conv1.norm.running_mean', 'backbone.bottom_up.res4.2.conv1.norm.running_var', 'backbone.bottom_up.res4.2.conv2.weight', 'backbone.bottom_up.res4.2.conv2.norm.weight', 'backbone.bottom_up.res4.2.conv2.norm.bias', 'backbone.bottom_up.res4.2.conv2.norm.running_mean', 'backbone.bottom_up.res4.2.conv2.norm.running_var', 'backbone.bottom_up.res4.2.conv3.weight', 'backbone.bottom_up.res4.2.conv3.norm.weight', 'backbone.bottom_up.res4.2.conv3.norm.bias', 'backbone.bottom_up.res4.2.conv3.norm.running_mean', 'backbone.bottom_up.res4.2.conv3.norm.running_var', 'backbone.bottom_up.res4.3.conv1.weight', 'backbone.bottom_up.res4.3.conv1.norm.weight', 'backbone.bottom_up.res4.3.conv1.norm.bias', 'backbone.bottom_up.res4.3.conv1.norm.running_mean', 'backbone.bottom_up.res4.3.conv1.norm.running_var', 'backbone.bottom_up.res4.3.conv2.weight', 'backbone.bottom_up.res4.3.conv2.norm.weight', 'backbone.bottom_up.res4.3.conv2.norm.bias', 'backbone.bottom_up.res4.3.conv2.norm.running_mean', 'backbone.bottom_up.res4.3.conv2.norm.running_var', 'backbone.bottom_up.res4.3.conv3.weight', 'backbone.bottom_up.res4.3.conv3.norm.weight', 'backbone.bottom_up.res4.3.conv3.norm.bias', 'backbone.bottom_up.res4.3.conv3.norm.running_mean', 'backbone.bottom_up.res4.3.conv3.norm.running_var', 'backbone.bottom_up.res4.4.conv1.weight', 'backbone.bottom_up.res4.4.conv1.norm.weight', 'backbone.bottom_up.res4.4.conv1.norm.bias', 'backbone.bottom_up.res4.4.conv1.norm.running_mean', 'backbone.bottom_up.res4.4.conv1.norm.running_var', 'backbone.bottom_up.res4.4.conv2.weight', 'backbone.bottom_up.res4.4.conv2.norm.weight', 'backbone.bottom_up.res4.4.conv2.norm.bias', 'backbone.bottom_up.res4.4.conv2.norm.running_mean', 'backbone.bottom_up.res4.4.conv2.norm.running_var', 'backbone.bottom_up.res4.4.conv3.weight', 'backbone.bottom_up.res4.4.conv3.norm.weight', 'backbone.bottom_up.res4.4.conv3.norm.bias', 'backbone.bottom_up.res4.4.conv3.norm.running_mean', 'backbone.bottom_up.res4.4.conv3.norm.running_var', 'backbone.bottom_up.res4.5.conv1.weight', 'backbone.bottom_up.res4.5.conv1.norm.weight', 'backbone.bottom_up.res4.5.conv1.norm.bias', 'backbone.bottom_up.res4.5.conv1.norm.running_mean', 'backbone.bottom_up.res4.5.conv1.norm.running_var', 'backbone.bottom_up.res4.5.conv2.weight', 'backbone.bottom_up.res4.5.conv2.norm.weight', 'backbone.bottom_up.res4.5.conv2.norm.bias', 'backbone.bottom_up.res4.5.conv2.norm.running_mean', 'backbone.bottom_up.res4.5.conv2.norm.running_var', 'backbone.bottom_up.res4.5.conv3.weight', 'backbone.bottom_up.res4.5.conv3.norm.weight', 'backbone.bottom_up.res4.5.conv3.norm.bias', 'backbone.bottom_up.res4.5.conv3.norm.running_mean', 'backbone.bottom_up.res4.5.conv3.norm.running_var', 'backbone.bottom_up.res5.0.shortcut.weight', 'backbone.bottom_up.res5.0.shortcut.norm.weight', 'backbone.bottom_up.res5.0.shortcut.norm.bias', 'backbone.bottom_up.res5.0.shortcut.norm.running_mean', 'backbone.bottom_up.res5.0.shortcut.norm.running_var', 'backbone.bottom_up.res5.0.conv1.weight', 'backbone.bottom_up.res5.0.conv1.norm.weight', 'backbone.bottom_up.res5.0.conv1.norm.bias', 'backbone.bottom_up.res5.0.conv1.norm.running_mean', 'backbone.bottom_up.res5.0.conv1.norm.running_var', 'backbone.bottom_up.res5.0.conv2.weight', 'backbone.bottom_up.res5.0.conv2.norm.weight', 'backbone.bottom_up.res5.0.conv2.norm.bias', 'backbone.bottom_up.res5.0.conv2.norm.running_mean', 'backbone.bottom_up.res5.0.conv2.norm.running_var', 'backbone.bottom_up.res5.0.conv3.weight', 'backbone.bottom_up.res5.0.conv3.norm.weight', 'backbone.bottom_up.res5.0.conv3.norm.bias', 'backbone.bottom_up.res5.0.conv3.norm.running_mean', 'backbone.bottom_up.res5.0.conv3.norm.running_var', 'backbone.bottom_up.res5.1.conv1.weight', 'backbone.bottom_up.res5.1.conv1.norm.weight', 'backbone.bottom_up.res5.1.conv1.norm.bias', 'backbone.bottom_up.res5.1.conv1.norm.running_mean', 'backbone.bottom_up.res5.1.conv1.norm.running_var', 'backbone.bottom_up.res5.1.conv2.weight', 'backbone.bottom_up.res5.1.conv2.norm.weight', 'backbone.bottom_up.res5.1.conv2.norm.bias', 'backbone.bottom_up.res5.1.conv2.norm.running_mean', 'backbone.bottom_up.res5.1.conv2.norm.running_var', 'backbone.bottom_up.res5.1.conv3.weight', 'backbone.bottom_up.res5.1.conv3.norm.weight', 'backbone.bottom_up.res5.1.conv3.norm.bias', 'backbone.bottom_up.res5.1.conv3.norm.running_mean', 'backbone.bottom_up.res5.1.conv3.norm.running_var', 'backbone.bottom_up.res5.2.conv1.weight', 'backbone.bottom_up.res5.2.conv1.norm.weight', 'backbone.bottom_up.res5.2.conv1.norm.bias', 'backbone.bottom_up.res5.2.conv1.norm.running_mean', 'backbone.bottom_up.res5.2.conv1.norm.running_var', 'backbone.bottom_up.res5.2.conv2.weight', 'backbone.bottom_up.res5.2.conv2.norm.weight', 'backbone.bottom_up.res5.2.conv2.norm.bias', 'backbone.bottom_up.res5.2.conv2.norm.running_mean', 'backbone.bottom_up.res5.2.conv2.norm.running_var', 'backbone.bottom_up.res5.2.conv3.weight', 'backbone.bottom_up.res5.2.conv3.norm.weight', 'backbone.bottom_up.res5.2.conv3.norm.bias', 'backbone.bottom_up.res5.2.conv3.norm.running_mean', 'backbone.bottom_up.res5.2.conv3.norm.running_var', 'proposal_generator.anchor_generator.cell_anchors.0', 'proposal_generator.anchor_generator.cell_anchors.1', 'proposal_generator.anchor_generator.cell_anchors.2', 'proposal_generator.anchor_generator.cell_anchors.3', 'proposal_generator.anchor_generator.cell_anchors.4', 'proposal_generator.rpn_head.conv.weight', 'proposal_generator.rpn_head.conv.bias', 'proposal_generator.rpn_head.objectness_logits.weight', 'proposal_generator.rpn_head.objectness_logits.bias', 'proposal_generator.rpn_head.anchor_deltas.weight', 'proposal_generator.rpn_head.anchor_deltas.bias'])"
      ]
     },
     "execution_count": 3,
     "metadata": {},
     "output_type": "execute_result"
    }
   ],
   "source": [
    "detectron_model['model'].keys()"
   ]
  },
  {
   "cell_type": "code",
   "execution_count": 4,
   "metadata": {},
   "outputs": [],
   "source": [
    "mmdet_model = torch.load('./exps/mask_rcnn_r50_fpn_ms1333_detectron2-caffe-freezeBN_l1-loss_roialign-v2_1x_noctr/latest.pth', map_location='cpu')"
   ]
  },
  {
   "cell_type": "code",
   "execution_count": 5,
   "metadata": {},
   "outputs": [
    {
     "data": {
      "text/plain": [
       "odict_keys(['backbone.conv1.weight', 'backbone.bn1.weight', 'backbone.bn1.bias', 'backbone.bn1.running_mean', 'backbone.bn1.running_var', 'backbone.bn1.num_batches_tracked', 'backbone.layer1.0.conv1.weight', 'backbone.layer1.0.bn1.weight', 'backbone.layer1.0.bn1.bias', 'backbone.layer1.0.bn1.running_mean', 'backbone.layer1.0.bn1.running_var', 'backbone.layer1.0.bn1.num_batches_tracked', 'backbone.layer1.0.conv2.weight', 'backbone.layer1.0.bn2.weight', 'backbone.layer1.0.bn2.bias', 'backbone.layer1.0.bn2.running_mean', 'backbone.layer1.0.bn2.running_var', 'backbone.layer1.0.bn2.num_batches_tracked', 'backbone.layer1.0.conv3.weight', 'backbone.layer1.0.bn3.weight', 'backbone.layer1.0.bn3.bias', 'backbone.layer1.0.bn3.running_mean', 'backbone.layer1.0.bn3.running_var', 'backbone.layer1.0.bn3.num_batches_tracked', 'backbone.layer1.0.downsample.0.weight', 'backbone.layer1.0.downsample.1.weight', 'backbone.layer1.0.downsample.1.bias', 'backbone.layer1.0.downsample.1.running_mean', 'backbone.layer1.0.downsample.1.running_var', 'backbone.layer1.0.downsample.1.num_batches_tracked', 'backbone.layer1.1.conv1.weight', 'backbone.layer1.1.bn1.weight', 'backbone.layer1.1.bn1.bias', 'backbone.layer1.1.bn1.running_mean', 'backbone.layer1.1.bn1.running_var', 'backbone.layer1.1.bn1.num_batches_tracked', 'backbone.layer1.1.conv2.weight', 'backbone.layer1.1.bn2.weight', 'backbone.layer1.1.bn2.bias', 'backbone.layer1.1.bn2.running_mean', 'backbone.layer1.1.bn2.running_var', 'backbone.layer1.1.bn2.num_batches_tracked', 'backbone.layer1.1.conv3.weight', 'backbone.layer1.1.bn3.weight', 'backbone.layer1.1.bn3.bias', 'backbone.layer1.1.bn3.running_mean', 'backbone.layer1.1.bn3.running_var', 'backbone.layer1.1.bn3.num_batches_tracked', 'backbone.layer1.2.conv1.weight', 'backbone.layer1.2.bn1.weight', 'backbone.layer1.2.bn1.bias', 'backbone.layer1.2.bn1.running_mean', 'backbone.layer1.2.bn1.running_var', 'backbone.layer1.2.bn1.num_batches_tracked', 'backbone.layer1.2.conv2.weight', 'backbone.layer1.2.bn2.weight', 'backbone.layer1.2.bn2.bias', 'backbone.layer1.2.bn2.running_mean', 'backbone.layer1.2.bn2.running_var', 'backbone.layer1.2.bn2.num_batches_tracked', 'backbone.layer1.2.conv3.weight', 'backbone.layer1.2.bn3.weight', 'backbone.layer1.2.bn3.bias', 'backbone.layer1.2.bn3.running_mean', 'backbone.layer1.2.bn3.running_var', 'backbone.layer1.2.bn3.num_batches_tracked', 'backbone.layer2.0.conv1.weight', 'backbone.layer2.0.bn1.weight', 'backbone.layer2.0.bn1.bias', 'backbone.layer2.0.bn1.running_mean', 'backbone.layer2.0.bn1.running_var', 'backbone.layer2.0.bn1.num_batches_tracked', 'backbone.layer2.0.conv2.weight', 'backbone.layer2.0.bn2.weight', 'backbone.layer2.0.bn2.bias', 'backbone.layer2.0.bn2.running_mean', 'backbone.layer2.0.bn2.running_var', 'backbone.layer2.0.bn2.num_batches_tracked', 'backbone.layer2.0.conv3.weight', 'backbone.layer2.0.bn3.weight', 'backbone.layer2.0.bn3.bias', 'backbone.layer2.0.bn3.running_mean', 'backbone.layer2.0.bn3.running_var', 'backbone.layer2.0.bn3.num_batches_tracked', 'backbone.layer2.0.downsample.0.weight', 'backbone.layer2.0.downsample.1.weight', 'backbone.layer2.0.downsample.1.bias', 'backbone.layer2.0.downsample.1.running_mean', 'backbone.layer2.0.downsample.1.running_var', 'backbone.layer2.0.downsample.1.num_batches_tracked', 'backbone.layer2.1.conv1.weight', 'backbone.layer2.1.bn1.weight', 'backbone.layer2.1.bn1.bias', 'backbone.layer2.1.bn1.running_mean', 'backbone.layer2.1.bn1.running_var', 'backbone.layer2.1.bn1.num_batches_tracked', 'backbone.layer2.1.conv2.weight', 'backbone.layer2.1.bn2.weight', 'backbone.layer2.1.bn2.bias', 'backbone.layer2.1.bn2.running_mean', 'backbone.layer2.1.bn2.running_var', 'backbone.layer2.1.bn2.num_batches_tracked', 'backbone.layer2.1.conv3.weight', 'backbone.layer2.1.bn3.weight', 'backbone.layer2.1.bn3.bias', 'backbone.layer2.1.bn3.running_mean', 'backbone.layer2.1.bn3.running_var', 'backbone.layer2.1.bn3.num_batches_tracked', 'backbone.layer2.2.conv1.weight', 'backbone.layer2.2.bn1.weight', 'backbone.layer2.2.bn1.bias', 'backbone.layer2.2.bn1.running_mean', 'backbone.layer2.2.bn1.running_var', 'backbone.layer2.2.bn1.num_batches_tracked', 'backbone.layer2.2.conv2.weight', 'backbone.layer2.2.bn2.weight', 'backbone.layer2.2.bn2.bias', 'backbone.layer2.2.bn2.running_mean', 'backbone.layer2.2.bn2.running_var', 'backbone.layer2.2.bn2.num_batches_tracked', 'backbone.layer2.2.conv3.weight', 'backbone.layer2.2.bn3.weight', 'backbone.layer2.2.bn3.bias', 'backbone.layer2.2.bn3.running_mean', 'backbone.layer2.2.bn3.running_var', 'backbone.layer2.2.bn3.num_batches_tracked', 'backbone.layer2.3.conv1.weight', 'backbone.layer2.3.bn1.weight', 'backbone.layer2.3.bn1.bias', 'backbone.layer2.3.bn1.running_mean', 'backbone.layer2.3.bn1.running_var', 'backbone.layer2.3.bn1.num_batches_tracked', 'backbone.layer2.3.conv2.weight', 'backbone.layer2.3.bn2.weight', 'backbone.layer2.3.bn2.bias', 'backbone.layer2.3.bn2.running_mean', 'backbone.layer2.3.bn2.running_var', 'backbone.layer2.3.bn2.num_batches_tracked', 'backbone.layer2.3.conv3.weight', 'backbone.layer2.3.bn3.weight', 'backbone.layer2.3.bn3.bias', 'backbone.layer2.3.bn3.running_mean', 'backbone.layer2.3.bn3.running_var', 'backbone.layer2.3.bn3.num_batches_tracked', 'backbone.layer3.0.conv1.weight', 'backbone.layer3.0.bn1.weight', 'backbone.layer3.0.bn1.bias', 'backbone.layer3.0.bn1.running_mean', 'backbone.layer3.0.bn1.running_var', 'backbone.layer3.0.bn1.num_batches_tracked', 'backbone.layer3.0.conv2.weight', 'backbone.layer3.0.bn2.weight', 'backbone.layer3.0.bn2.bias', 'backbone.layer3.0.bn2.running_mean', 'backbone.layer3.0.bn2.running_var', 'backbone.layer3.0.bn2.num_batches_tracked', 'backbone.layer3.0.conv3.weight', 'backbone.layer3.0.bn3.weight', 'backbone.layer3.0.bn3.bias', 'backbone.layer3.0.bn3.running_mean', 'backbone.layer3.0.bn3.running_var', 'backbone.layer3.0.bn3.num_batches_tracked', 'backbone.layer3.0.downsample.0.weight', 'backbone.layer3.0.downsample.1.weight', 'backbone.layer3.0.downsample.1.bias', 'backbone.layer3.0.downsample.1.running_mean', 'backbone.layer3.0.downsample.1.running_var', 'backbone.layer3.0.downsample.1.num_batches_tracked', 'backbone.layer3.1.conv1.weight', 'backbone.layer3.1.bn1.weight', 'backbone.layer3.1.bn1.bias', 'backbone.layer3.1.bn1.running_mean', 'backbone.layer3.1.bn1.running_var', 'backbone.layer3.1.bn1.num_batches_tracked', 'backbone.layer3.1.conv2.weight', 'backbone.layer3.1.bn2.weight', 'backbone.layer3.1.bn2.bias', 'backbone.layer3.1.bn2.running_mean', 'backbone.layer3.1.bn2.running_var', 'backbone.layer3.1.bn2.num_batches_tracked', 'backbone.layer3.1.conv3.weight', 'backbone.layer3.1.bn3.weight', 'backbone.layer3.1.bn3.bias', 'backbone.layer3.1.bn3.running_mean', 'backbone.layer3.1.bn3.running_var', 'backbone.layer3.1.bn3.num_batches_tracked', 'backbone.layer3.2.conv1.weight', 'backbone.layer3.2.bn1.weight', 'backbone.layer3.2.bn1.bias', 'backbone.layer3.2.bn1.running_mean', 'backbone.layer3.2.bn1.running_var', 'backbone.layer3.2.bn1.num_batches_tracked', 'backbone.layer3.2.conv2.weight', 'backbone.layer3.2.bn2.weight', 'backbone.layer3.2.bn2.bias', 'backbone.layer3.2.bn2.running_mean', 'backbone.layer3.2.bn2.running_var', 'backbone.layer3.2.bn2.num_batches_tracked', 'backbone.layer3.2.conv3.weight', 'backbone.layer3.2.bn3.weight', 'backbone.layer3.2.bn3.bias', 'backbone.layer3.2.bn3.running_mean', 'backbone.layer3.2.bn3.running_var', 'backbone.layer3.2.bn3.num_batches_tracked', 'backbone.layer3.3.conv1.weight', 'backbone.layer3.3.bn1.weight', 'backbone.layer3.3.bn1.bias', 'backbone.layer3.3.bn1.running_mean', 'backbone.layer3.3.bn1.running_var', 'backbone.layer3.3.bn1.num_batches_tracked', 'backbone.layer3.3.conv2.weight', 'backbone.layer3.3.bn2.weight', 'backbone.layer3.3.bn2.bias', 'backbone.layer3.3.bn2.running_mean', 'backbone.layer3.3.bn2.running_var', 'backbone.layer3.3.bn2.num_batches_tracked', 'backbone.layer3.3.conv3.weight', 'backbone.layer3.3.bn3.weight', 'backbone.layer3.3.bn3.bias', 'backbone.layer3.3.bn3.running_mean', 'backbone.layer3.3.bn3.running_var', 'backbone.layer3.3.bn3.num_batches_tracked', 'backbone.layer3.4.conv1.weight', 'backbone.layer3.4.bn1.weight', 'backbone.layer3.4.bn1.bias', 'backbone.layer3.4.bn1.running_mean', 'backbone.layer3.4.bn1.running_var', 'backbone.layer3.4.bn1.num_batches_tracked', 'backbone.layer3.4.conv2.weight', 'backbone.layer3.4.bn2.weight', 'backbone.layer3.4.bn2.bias', 'backbone.layer3.4.bn2.running_mean', 'backbone.layer3.4.bn2.running_var', 'backbone.layer3.4.bn2.num_batches_tracked', 'backbone.layer3.4.conv3.weight', 'backbone.layer3.4.bn3.weight', 'backbone.layer3.4.bn3.bias', 'backbone.layer3.4.bn3.running_mean', 'backbone.layer3.4.bn3.running_var', 'backbone.layer3.4.bn3.num_batches_tracked', 'backbone.layer3.5.conv1.weight', 'backbone.layer3.5.bn1.weight', 'backbone.layer3.5.bn1.bias', 'backbone.layer3.5.bn1.running_mean', 'backbone.layer3.5.bn1.running_var', 'backbone.layer3.5.bn1.num_batches_tracked', 'backbone.layer3.5.conv2.weight', 'backbone.layer3.5.bn2.weight', 'backbone.layer3.5.bn2.bias', 'backbone.layer3.5.bn2.running_mean', 'backbone.layer3.5.bn2.running_var', 'backbone.layer3.5.bn2.num_batches_tracked', 'backbone.layer3.5.conv3.weight', 'backbone.layer3.5.bn3.weight', 'backbone.layer3.5.bn3.bias', 'backbone.layer3.5.bn3.running_mean', 'backbone.layer3.5.bn3.running_var', 'backbone.layer3.5.bn3.num_batches_tracked', 'backbone.layer4.0.conv1.weight', 'backbone.layer4.0.bn1.weight', 'backbone.layer4.0.bn1.bias', 'backbone.layer4.0.bn1.running_mean', 'backbone.layer4.0.bn1.running_var', 'backbone.layer4.0.bn1.num_batches_tracked', 'backbone.layer4.0.conv2.weight', 'backbone.layer4.0.bn2.weight', 'backbone.layer4.0.bn2.bias', 'backbone.layer4.0.bn2.running_mean', 'backbone.layer4.0.bn2.running_var', 'backbone.layer4.0.bn2.num_batches_tracked', 'backbone.layer4.0.conv3.weight', 'backbone.layer4.0.bn3.weight', 'backbone.layer4.0.bn3.bias', 'backbone.layer4.0.bn3.running_mean', 'backbone.layer4.0.bn3.running_var', 'backbone.layer4.0.bn3.num_batches_tracked', 'backbone.layer4.0.downsample.0.weight', 'backbone.layer4.0.downsample.1.weight', 'backbone.layer4.0.downsample.1.bias', 'backbone.layer4.0.downsample.1.running_mean', 'backbone.layer4.0.downsample.1.running_var', 'backbone.layer4.0.downsample.1.num_batches_tracked', 'backbone.layer4.1.conv1.weight', 'backbone.layer4.1.bn1.weight', 'backbone.layer4.1.bn1.bias', 'backbone.layer4.1.bn1.running_mean', 'backbone.layer4.1.bn1.running_var', 'backbone.layer4.1.bn1.num_batches_tracked', 'backbone.layer4.1.conv2.weight', 'backbone.layer4.1.bn2.weight', 'backbone.layer4.1.bn2.bias', 'backbone.layer4.1.bn2.running_mean', 'backbone.layer4.1.bn2.running_var', 'backbone.layer4.1.bn2.num_batches_tracked', 'backbone.layer4.1.conv3.weight', 'backbone.layer4.1.bn3.weight', 'backbone.layer4.1.bn3.bias', 'backbone.layer4.1.bn3.running_mean', 'backbone.layer4.1.bn3.running_var', 'backbone.layer4.1.bn3.num_batches_tracked', 'backbone.layer4.2.conv1.weight', 'backbone.layer4.2.bn1.weight', 'backbone.layer4.2.bn1.bias', 'backbone.layer4.2.bn1.running_mean', 'backbone.layer4.2.bn1.running_var', 'backbone.layer4.2.bn1.num_batches_tracked', 'backbone.layer4.2.conv2.weight', 'backbone.layer4.2.bn2.weight', 'backbone.layer4.2.bn2.bias', 'backbone.layer4.2.bn2.running_mean', 'backbone.layer4.2.bn2.running_var', 'backbone.layer4.2.bn2.num_batches_tracked', 'backbone.layer4.2.conv3.weight', 'backbone.layer4.2.bn3.weight', 'backbone.layer4.2.bn3.bias', 'backbone.layer4.2.bn3.running_mean', 'backbone.layer4.2.bn3.running_var', 'backbone.layer4.2.bn3.num_batches_tracked', 'neck.lateral_convs.0.conv.weight', 'neck.lateral_convs.0.conv.bias', 'neck.lateral_convs.1.conv.weight', 'neck.lateral_convs.1.conv.bias', 'neck.lateral_convs.2.conv.weight', 'neck.lateral_convs.2.conv.bias', 'neck.lateral_convs.3.conv.weight', 'neck.lateral_convs.3.conv.bias', 'neck.fpn_convs.0.conv.weight', 'neck.fpn_convs.0.conv.bias', 'neck.fpn_convs.1.conv.weight', 'neck.fpn_convs.1.conv.bias', 'neck.fpn_convs.2.conv.weight', 'neck.fpn_convs.2.conv.bias', 'neck.fpn_convs.3.conv.weight', 'neck.fpn_convs.3.conv.bias', 'rpn_head.rpn_conv.weight', 'rpn_head.rpn_conv.bias', 'rpn_head.rpn_cls.weight', 'rpn_head.rpn_cls.bias', 'rpn_head.rpn_reg.weight', 'rpn_head.rpn_reg.bias', 'bbox_head.fc_cls.weight', 'bbox_head.fc_cls.bias', 'bbox_head.fc_reg.weight', 'bbox_head.fc_reg.bias', 'bbox_head.shared_fcs.0.weight', 'bbox_head.shared_fcs.0.bias', 'bbox_head.shared_fcs.1.weight', 'bbox_head.shared_fcs.1.bias', 'mask_head.convs.0.conv.weight', 'mask_head.convs.0.conv.bias', 'mask_head.convs.1.conv.weight', 'mask_head.convs.1.conv.bias', 'mask_head.convs.2.conv.weight', 'mask_head.convs.2.conv.bias', 'mask_head.convs.3.conv.weight', 'mask_head.convs.3.conv.bias', 'mask_head.upsample.weight', 'mask_head.upsample.bias', 'mask_head.conv_logits.weight', 'mask_head.conv_logits.bias'])"
      ]
     },
     "execution_count": 5,
     "metadata": {},
     "output_type": "execute_result"
    }
   ],
   "source": [
    "mmdet_model['state_dict'].keys()"
   ]
  },
  {
   "cell_type": "code",
   "execution_count": 6,
   "metadata": {},
   "outputs": [],
   "source": [
    "new_state_dict = collections.OrderedDict()\n",
    "mmdet_model_copy = copy.deepcopy(mmdet_model['state_dict'])\n",
    "for k, v in detectron_model['model'].items():\n",
    "    key_name_split = k.split('.')\n",
    "    if 'backbone.fpn_lateral' in k:\n",
    "        lateral_id = int(key_name_split[-2][-1])\n",
    "        name = f'neck.lateral_convs.{lateral_id-2}.conv.{key_name_split[-1]}'\n",
    "    elif 'backbone.fpn_output' in k:\n",
    "        lateral_id = int(key_name_split[-2][-1])\n",
    "        name = f'neck.fpn_convs.{lateral_id-2}.conv.{key_name_split[-1]}'\n",
    "    elif 'backbone.bottom_up.stem.conv1.norm.' in k:\n",
    "        name = f'backbone.bn1.{key_name_split[-1]}'\n",
    "    elif 'backbone.bottom_up.stem.conv1.' in k:\n",
    "        name = f'backbone.conv1.{key_name_split[-1]}'\n",
    "    elif 'backbone.bottom_up.res' in k:\n",
    "        weight_type = key_name_split[-1]\n",
    "        res_id = int(key_name_split[2][-1]) - 1\n",
    "        # deal with short cut\n",
    "        if 'shortcut' in key_name_split[4]:\n",
    "            if 'shortcut' == key_name_split[-2]:\n",
    "                name = f'backbone.layer{res_id}.{key_name_split[3]}.downsample.0.{key_name_split[-1]}'\n",
    "            elif 'shortcut' == key_name_split[-3]:\n",
    "                name = f'backbone.layer{res_id}.{key_name_split[3]}.downsample.1.{key_name_split[-1]}'\n",
    "            else:\n",
    "                print(f\"Unvalid key {k}\")\n",
    "        # deal with conv\n",
    "        elif 'conv' in key_name_split[-2]:\n",
    "            conv_id = int(key_name_split[-2][-1])\n",
    "            name = f'backbone.layer{res_id}.{key_name_split[3]}.conv{conv_id}.{key_name_split[-1]}'\n",
    "        # deal with BN\n",
    "        elif key_name_split[-2] == 'norm':\n",
    "            conv_id = int(key_name_split[-3][-1])\n",
    "            name = f'backbone.layer{res_id}.{key_name_split[3]}.bn{conv_id}.{key_name_split[-1]}'\n",
    "        else:\n",
    "            print(f\"{k} is invalid\")\n",
    "    elif 'proposal_generator.anchor_generator' in k:\n",
    "        continue\n",
    "    elif 'rpn' in k:\n",
    "        if 'conv' in key_name_split[2]:\n",
    "            name = f'rpn_head.rpn_conv.{key_name_split[-1]}'\n",
    "        elif 'objectness_logits' in key_name_split[2]:\n",
    "            name = f'rpn_head.rpn_cls.{key_name_split[-1]}'\n",
    "        elif 'anchor_deltas' in key_name_split[2]:\n",
    "            name = f'rpn_head.rpn_reg.{key_name_split[-1]}'\n",
    "        else:\n",
    "            print(f\"{k} is invalid\")\n",
    "    elif 'roi_heads' in k:\n",
    "        if key_name_split[1] == 'box_head':\n",
    "            fc_id = int(key_name_split[2][-1]) - 1\n",
    "            name = f'bbox_head.shared_fcs.{fc_id}.{key_name_split[-1]}'\n",
    "        elif 'cls_score' == key_name_split[2]:\n",
    "            name = f'bbox_head.fc_cls.{key_name_split[-1]}'\n",
    "        elif 'bbox_pred' == key_name_split[2]:\n",
    "            name = f'bbox_head.fc_reg.{key_name_split[-1]}'\n",
    "        elif 'mask_fcn' in key_name_split[2]:\n",
    "            conv_id = int(key_name_split[2][-1])-1\n",
    "            name = f'mask_head.convs.{conv_id}.conv.{key_name_split[-1]}'\n",
    "        elif 'deconv' in key_name_split[2]:\n",
    "            name = f'mask_head.upsample.{key_name_split[-1]}'\n",
    "        elif'roi_heads.mask_head.predictor' in k:\n",
    "            name = f'mask_head.conv_logits.{key_name_split[-1]}'\n",
    "        else:\n",
    "            print(f\"{k} is invalid\")\n",
    "    else:\n",
    "        print(f\"{k} is not converted!!\")\n",
    "    \n",
    "    assert name in mmdet_model_copy.keys(), f\"{k} converted to {name} but not in models\"\n",
    "    # print(f\"{name} popped\")\n",
    "    mmdet_model_copy.pop(name)\n",
    "    new_state_dict[name] = v"
   ]
  },
  {
   "cell_type": "code",
   "execution_count": 7,
   "metadata": {},
   "outputs": [],
   "source": [
    "mmdet_model['state_dict'] = new_state_dict\n",
    "torch.save(mmdet_model, 'mmdet_detectron2_rpn_r50.pth')"
   ]
  },
  {
   "cell_type": "code",
   "execution_count": null,
   "metadata": {},
   "outputs": [],
   "source": []
  }
 ],
 "metadata": {
  "kernelspec": {
   "display_name": "Python 3",
   "language": "python",
   "name": "python3"
  },
  "language_info": {
   "codemirror_mode": {
    "name": "ipython",
    "version": 3
   },
   "file_extension": ".py",
   "mimetype": "text/x-python",
   "name": "python",
   "nbconvert_exporter": "python",
   "pygments_lexer": "ipython3",
   "version": "3.7.5"
  }
 },
 "nbformat": 4,
 "nbformat_minor": 4
}
